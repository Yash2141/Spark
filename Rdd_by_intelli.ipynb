{
  "nbformat": 4,
  "nbformat_minor": 0,
  "metadata": {
    "colab": {
      "name": "intelli big data.ipynb",
      "provenance": [],
      "collapsed_sections": []
    },
    "kernelspec": {
      "name": "python3",
      "display_name": "Python 3"
    },
    "language_info": {
      "name": "python"
    }
  },
  "cells": [
    {
      "cell_type": "code",
      "execution_count": 4,
      "metadata": {
        "colab": {
          "base_uri": "https://localhost:8080/"
        },
        "id": "WHMihI2ou24p",
        "outputId": "094ad940-9667-498e-9391-3210b5d0a7b6"
      },
      "outputs": [
        {
          "output_type": "stream",
          "name": "stdout",
          "text": [
            "Collecting pyspark\n",
            "  Downloading pyspark-3.2.1.tar.gz (281.4 MB)\n",
            "\u001b[K     |████████████████████████████████| 281.4 MB 35 kB/s \n",
            "\u001b[?25hCollecting py4j==0.10.9.3\n",
            "  Downloading py4j-0.10.9.3-py2.py3-none-any.whl (198 kB)\n",
            "\u001b[K     |████████████████████████████████| 198 kB 53.8 MB/s \n",
            "\u001b[?25hBuilding wheels for collected packages: pyspark\n",
            "  Building wheel for pyspark (setup.py) ... \u001b[?25l\u001b[?25hdone\n",
            "  Created wheel for pyspark: filename=pyspark-3.2.1-py2.py3-none-any.whl size=281853642 sha256=5450af3bc8c3c5a4e192c9c9930f8c6130de9a9b82076752be6a03663952b8b4\n",
            "  Stored in directory: /root/.cache/pip/wheels/9f/f5/07/7cd8017084dce4e93e84e92efd1e1d5334db05f2e83bcef74f\n",
            "Successfully built pyspark\n",
            "Installing collected packages: py4j, pyspark\n",
            "Successfully installed py4j-0.10.9.3 pyspark-3.2.1\n"
          ]
        }
      ],
      "source": [
        "pip install pyspark\n"
      ]
    },
    {
      "cell_type": "markdown",
      "source": [
        "## install or Downloading spark (change the version number if needed)\n"
      ],
      "metadata": {
        "id": "0x_LK-hcv_LW"
      }
    },
    {
      "cell_type": "code",
      "source": [
        "!wget -q https://archive.apache.org/dist/spark/spark-3.0.0/spark-3.0.0-bin-hadoop3.2.tgz"
      ],
      "metadata": {
        "id": "HBcDeH7_vLsY"
      },
      "execution_count": 5,
      "outputs": []
    },
    {
      "cell_type": "markdown",
      "source": [
        "## unzip or Extract the spark files to the current folder\n",
        "\n",
        "\n"
      ],
      "metadata": {
        "id": "YCqHoS1nwbBy"
      }
    },
    {
      "cell_type": "code",
      "source": [
        "!tar xf spark-3.0.0-bin-hadoop3.2.tgz"
      ],
      "metadata": {
        "id": "QPHD9TSHvEKB"
      },
      "execution_count": 6,
      "outputs": []
    },
    {
      "cell_type": "markdown",
      "source": [
        "## installing findspark"
      ],
      "metadata": {
        "id": "fkMM9f20wpgI"
      }
    },
    {
      "cell_type": "code",
      "source": [
        "!pip install -q findspark\n"
      ],
      "metadata": {
        "id": "q4B_1dUxvEgO"
      },
      "execution_count": 7,
      "outputs": []
    },
    {
      "cell_type": "markdown",
      "source": [
        "## Creating spark session"
      ],
      "metadata": {
        "id": "arKk-XCzyIkO"
      }
    },
    {
      "cell_type": "code",
      "source": [
        "import findspark\n",
        "findspark.init()\n",
        "from pyspark.sql import SparkSession\n",
        "spark = SparkSession.builder.master(\"local[*]\").getOrCreate()"
      ],
      "metadata": {
        "id": "Bue_qxdZw6e1"
      },
      "execution_count": 8,
      "outputs": []
    },
    {
      "cell_type": "markdown",
      "source": [
        "## Stopping the session"
      ],
      "metadata": {
        "id": "iiibu6fYzR59"
      }
    },
    {
      "cell_type": "code",
      "source": [
        "spark.stop()"
      ],
      "metadata": {
        "id": "T4Eqt7BYzC-Q"
      },
      "execution_count": 10,
      "outputs": []
    },
    {
      "cell_type": "markdown",
      "source": [
        "## imoport pyspark"
      ],
      "metadata": {
        "id": "F5F2MIwLzf1w"
      }
    },
    {
      "cell_type": "markdown",
      "source": [
        "## Creating a Spark Context"
      ],
      "metadata": {
        "id": "cxBlM0l0zwEz"
      }
    },
    {
      "cell_type": "code",
      "source": [
        "from pyspark import SparkConf\n",
        "from pyspark import SparkContext\n",
        "conf = SparkConf().setAppName('SparkRDD').setMaster('local')\n",
        "sc = SparkContext(conf = conf)"
      ],
      "metadata": {
        "id": "OeyWt6Xhzd1Y"
      },
      "execution_count": 11,
      "outputs": []
    },
    {
      "cell_type": "markdown",
      "source": [
        "## Creating an RDD Using a List:"
      ],
      "metadata": {
        "id": "W0bWMf48TRrX"
      }
    },
    {
      "cell_type": "code",
      "source": [
        "values = [1,2,3,4,5,6,7,8]\n",
        "rdd =sc.parallelize(values)"
      ],
      "metadata": {
        "id": "01bNLiHdz1SJ"
      },
      "execution_count": 13,
      "outputs": []
    },
    {
      "cell_type": "markdown",
      "source": [
        "## printing the RDD Values"
      ],
      "metadata": {
        "id": "sBSWQdf5VaKw"
      }
    },
    {
      "cell_type": "code",
      "source": [
        "rdd.take(5)"
      ],
      "metadata": {
        "colab": {
          "base_uri": "https://localhost:8080/"
        },
        "id": "OjI1TL5HVHnJ",
        "outputId": "6b2af5aa-e25c-4383-bbea-2292159203ad"
      },
      "execution_count": 15,
      "outputs": [
        {
          "output_type": "execute_result",
          "data": {
            "text/plain": [
              "[1, 2, 3, 4, 5]"
            ]
          },
          "metadata": {},
          "execution_count": 15
        }
      ]
    },
    {
      "cell_type": "markdown",
      "source": [
        "## Uploading a File to Google Colab:\n"
      ],
      "metadata": {
        "id": "NIbEmyZ7WI1x"
      }
    },
    {
      "cell_type": "code",
      "source": [
        "from google.colab import files\n",
        "uploaded = files.upload()"
      ],
      "metadata": {
        "colab": {
          "resources": {
            "http://localhost:8080/nbextensions/google.colab/files.js": {
              "data": "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",
              "ok": true,
              "headers": [
                [
                  "content-type",
                  "application/javascript"
                ]
              ],
              "status": 200,
              "status_text": ""
            }
          },
          "base_uri": "https://localhost:8080/",
          "height": 74
        },
        "id": "1yC6gAzuVery",
        "outputId": "addb1424-2d60-44a7-ac42-5ae532d6580b"
      },
      "execution_count": 16,
      "outputs": [
        {
          "output_type": "display_data",
          "data": {
            "text/plain": [
              "<IPython.core.display.HTML object>"
            ],
            "text/html": [
              "\n",
              "     <input type=\"file\" id=\"files-f7763004-a847-4cfe-acf9-a73ad46a48d4\" name=\"files[]\" multiple disabled\n",
              "        style=\"border:none\" />\n",
              "     <output id=\"result-f7763004-a847-4cfe-acf9-a73ad46a48d4\">\n",
              "      Upload widget is only available when the cell has been executed in the\n",
              "      current browser session. Please rerun this cell to enable.\n",
              "      </output>\n",
              "      <script src=\"/nbextensions/google.colab/files.js\"></script> "
            ]
          },
          "metadata": {}
        },
        {
          "output_type": "stream",
          "name": "stdout",
          "text": [
            "Saving drug200.csv to drug200.csv\n"
          ]
        }
      ]
    },
    {
      "cell_type": "markdown",
      "source": [
        "## Initializing an RDD Using a csv File:"
      ],
      "metadata": {
        "id": "wKy4wNkDWmdS"
      }
    },
    {
      "cell_type": "code",
      "source": [
        "rdd = sc.textFile(\"drug200.csv\")"
      ],
      "metadata": {
        "id": "N7jcJUWYWdYt"
      },
      "execution_count": 28,
      "outputs": []
    },
    {
      "cell_type": "markdown",
      "source": [
        "## Printing the rdd data:"
      ],
      "metadata": {
        "id": "kByvnxtUW3M8"
      }
    },
    {
      "cell_type": "code",
      "source": [
        "rdd.collect()"
      ],
      "metadata": {
        "colab": {
          "base_uri": "https://localhost:8080/"
        },
        "id": "pg27IB95W1rF",
        "outputId": "6b374fff-56af-4ee2-daad-6fa6619e6d82"
      },
      "execution_count": 29,
      "outputs": [
        {
          "output_type": "execute_result",
          "data": {
            "text/plain": [
              "['Age,Sex,BP,Cholesterol,Na_to_K,Drug',\n",
              " '23,F,HIGH,HIGH,25.355,DrugY',\n",
              " '47,M,LOW,HIGH,13.093,drugC',\n",
              " '47,M,LOW,HIGH,10.114,drugC',\n",
              " '28,F,NORMAL,HIGH,7.798,drugX',\n",
              " '61,F,LOW,HIGH,18.043,DrugY',\n",
              " '22,F,NORMAL,HIGH,8.607,drugX',\n",
              " '49,F,NORMAL,HIGH,16.275,DrugY',\n",
              " '41,M,LOW,HIGH,11.037,drugC',\n",
              " '60,M,NORMAL,HIGH,15.171,DrugY',\n",
              " '43,M,LOW,NORMAL,19.368,DrugY',\n",
              " '47,F,LOW,HIGH,11.767,drugC',\n",
              " '34,F,HIGH,NORMAL,19.199,DrugY',\n",
              " '43,M,LOW,HIGH,15.376,DrugY',\n",
              " '74,F,LOW,HIGH,20.942,DrugY',\n",
              " '50,F,NORMAL,HIGH,12.703,drugX',\n",
              " '16,F,HIGH,NORMAL,15.516,DrugY',\n",
              " '69,M,LOW,NORMAL,11.455,drugX',\n",
              " '43,M,HIGH,HIGH,13.972,drugA',\n",
              " '23,M,LOW,HIGH,7.298,drugC',\n",
              " '32,F,HIGH,NORMAL,25.974,DrugY',\n",
              " '57,M,LOW,NORMAL,19.128,DrugY',\n",
              " '63,M,NORMAL,HIGH,25.917,DrugY',\n",
              " '47,M,LOW,NORMAL,30.568,DrugY',\n",
              " '48,F,LOW,HIGH,15.036,DrugY',\n",
              " '33,F,LOW,HIGH,33.486,DrugY',\n",
              " '28,F,HIGH,NORMAL,18.809,DrugY',\n",
              " '31,M,HIGH,HIGH,30.366,DrugY',\n",
              " '49,F,NORMAL,NORMAL,9.381,drugX',\n",
              " '39,F,LOW,NORMAL,22.697,DrugY',\n",
              " '45,M,LOW,HIGH,17.951,DrugY',\n",
              " '18,F,NORMAL,NORMAL,8.75,drugX',\n",
              " '74,M,HIGH,HIGH,9.567,drugB',\n",
              " '49,M,LOW,NORMAL,11.014,drugX',\n",
              " '65,F,HIGH,NORMAL,31.876,DrugY',\n",
              " '53,M,NORMAL,HIGH,14.133,drugX',\n",
              " '46,M,NORMAL,NORMAL,7.285,drugX',\n",
              " '32,M,HIGH,NORMAL,9.445,drugA',\n",
              " '39,M,LOW,NORMAL,13.938,drugX',\n",
              " '39,F,NORMAL,NORMAL,9.709,drugX',\n",
              " '15,M,NORMAL,HIGH,9.084,drugX',\n",
              " '73,F,NORMAL,HIGH,19.221,DrugY',\n",
              " '58,F,HIGH,NORMAL,14.239,drugB',\n",
              " '50,M,NORMAL,NORMAL,15.79,DrugY',\n",
              " '23,M,NORMAL,HIGH,12.26,drugX',\n",
              " '50,F,NORMAL,NORMAL,12.295,drugX',\n",
              " '66,F,NORMAL,NORMAL,8.107,drugX',\n",
              " '37,F,HIGH,HIGH,13.091,drugA',\n",
              " '68,M,LOW,HIGH,10.291,drugC',\n",
              " '23,M,NORMAL,HIGH,31.686,DrugY',\n",
              " '28,F,LOW,HIGH,19.796,DrugY',\n",
              " '58,F,HIGH,HIGH,19.416,DrugY',\n",
              " '67,M,NORMAL,NORMAL,10.898,drugX',\n",
              " '62,M,LOW,NORMAL,27.183,DrugY',\n",
              " '24,F,HIGH,NORMAL,18.457,DrugY',\n",
              " '68,F,HIGH,NORMAL,10.189,drugB',\n",
              " '26,F,LOW,HIGH,14.16,drugC',\n",
              " '65,M,HIGH,NORMAL,11.34,drugB',\n",
              " '40,M,HIGH,HIGH,27.826,DrugY',\n",
              " '60,M,NORMAL,NORMAL,10.091,drugX',\n",
              " '34,M,HIGH,HIGH,18.703,DrugY',\n",
              " '38,F,LOW,NORMAL,29.875,DrugY',\n",
              " '24,M,HIGH,NORMAL,9.475,drugA',\n",
              " '67,M,LOW,NORMAL,20.693,DrugY',\n",
              " '45,M,LOW,NORMAL,8.37,drugX',\n",
              " '60,F,HIGH,HIGH,13.303,drugB',\n",
              " '68,F,NORMAL,NORMAL,27.05,DrugY',\n",
              " '29,M,HIGH,HIGH,12.856,drugA',\n",
              " '17,M,NORMAL,NORMAL,10.832,drugX',\n",
              " '54,M,NORMAL,HIGH,24.658,DrugY',\n",
              " '18,F,HIGH,NORMAL,24.276,DrugY',\n",
              " '70,M,HIGH,HIGH,13.967,drugB',\n",
              " '28,F,NORMAL,HIGH,19.675,DrugY',\n",
              " '24,F,NORMAL,HIGH,10.605,drugX',\n",
              " '41,F,NORMAL,NORMAL,22.905,DrugY',\n",
              " '31,M,HIGH,NORMAL,17.069,DrugY',\n",
              " '26,M,LOW,NORMAL,20.909,DrugY',\n",
              " '36,F,HIGH,HIGH,11.198,drugA',\n",
              " '26,F,HIGH,NORMAL,19.161,DrugY',\n",
              " '19,F,HIGH,HIGH,13.313,drugA',\n",
              " '32,F,LOW,NORMAL,10.84,drugX',\n",
              " '60,M,HIGH,HIGH,13.934,drugB',\n",
              " '64,M,NORMAL,HIGH,7.761,drugX',\n",
              " '32,F,LOW,HIGH,9.712,drugC',\n",
              " '38,F,HIGH,NORMAL,11.326,drugA',\n",
              " '47,F,LOW,HIGH,10.067,drugC',\n",
              " '59,M,HIGH,HIGH,13.935,drugB',\n",
              " '51,F,NORMAL,HIGH,13.597,drugX',\n",
              " '69,M,LOW,HIGH,15.478,DrugY',\n",
              " '37,F,HIGH,NORMAL,23.091,DrugY',\n",
              " '50,F,NORMAL,NORMAL,17.211,DrugY',\n",
              " '62,M,NORMAL,HIGH,16.594,DrugY',\n",
              " '41,M,HIGH,NORMAL,15.156,DrugY',\n",
              " '29,F,HIGH,HIGH,29.45,DrugY',\n",
              " '42,F,LOW,NORMAL,29.271,DrugY',\n",
              " '56,M,LOW,HIGH,15.015,DrugY',\n",
              " '36,M,LOW,NORMAL,11.424,drugX',\n",
              " '58,F,LOW,HIGH,38.247,DrugY',\n",
              " '56,F,HIGH,HIGH,25.395,DrugY',\n",
              " '20,M,HIGH,NORMAL,35.639,DrugY',\n",
              " '15,F,HIGH,NORMAL,16.725,DrugY',\n",
              " '31,M,HIGH,NORMAL,11.871,drugA',\n",
              " '45,F,HIGH,HIGH,12.854,drugA',\n",
              " '28,F,LOW,HIGH,13.127,drugC',\n",
              " '56,M,NORMAL,HIGH,8.966,drugX',\n",
              " '22,M,HIGH,NORMAL,28.294,DrugY',\n",
              " '37,M,LOW,NORMAL,8.968,drugX',\n",
              " '22,M,NORMAL,HIGH,11.953,drugX',\n",
              " '42,M,LOW,HIGH,20.013,DrugY',\n",
              " '72,M,HIGH,NORMAL,9.677,drugB',\n",
              " '23,M,NORMAL,HIGH,16.85,DrugY',\n",
              " '50,M,HIGH,HIGH,7.49,drugA',\n",
              " '47,F,NORMAL,NORMAL,6.683,drugX',\n",
              " '35,M,LOW,NORMAL,9.17,drugX',\n",
              " '65,F,LOW,NORMAL,13.769,drugX',\n",
              " '20,F,NORMAL,NORMAL,9.281,drugX',\n",
              " '51,M,HIGH,HIGH,18.295,DrugY',\n",
              " '67,M,NORMAL,NORMAL,9.514,drugX',\n",
              " '40,F,NORMAL,HIGH,10.103,drugX',\n",
              " '32,F,HIGH,NORMAL,10.292,drugA',\n",
              " '61,F,HIGH,HIGH,25.475,DrugY',\n",
              " '28,M,NORMAL,HIGH,27.064,DrugY',\n",
              " '15,M,HIGH,NORMAL,17.206,DrugY',\n",
              " '34,M,NORMAL,HIGH,22.456,DrugY',\n",
              " '36,F,NORMAL,HIGH,16.753,DrugY',\n",
              " '53,F,HIGH,NORMAL,12.495,drugB',\n",
              " '19,F,HIGH,NORMAL,25.969,DrugY',\n",
              " '66,M,HIGH,HIGH,16.347,DrugY',\n",
              " '35,M,NORMAL,NORMAL,7.845,drugX',\n",
              " '47,M,LOW,NORMAL,33.542,DrugY',\n",
              " '32,F,NORMAL,HIGH,7.477,drugX',\n",
              " '70,F,NORMAL,HIGH,20.489,DrugY',\n",
              " '52,M,LOW,NORMAL,32.922,DrugY',\n",
              " '49,M,LOW,NORMAL,13.598,drugX',\n",
              " '24,M,NORMAL,HIGH,25.786,DrugY',\n",
              " '42,F,HIGH,HIGH,21.036,DrugY',\n",
              " '74,M,LOW,NORMAL,11.939,drugX',\n",
              " '55,F,HIGH,HIGH,10.977,drugB',\n",
              " '35,F,HIGH,HIGH,12.894,drugA',\n",
              " '51,M,HIGH,NORMAL,11.343,drugB',\n",
              " '69,F,NORMAL,HIGH,10.065,drugX',\n",
              " '49,M,HIGH,NORMAL,6.269,drugA',\n",
              " '64,F,LOW,NORMAL,25.741,DrugY',\n",
              " '60,M,HIGH,NORMAL,8.621,drugB',\n",
              " '74,M,HIGH,NORMAL,15.436,DrugY',\n",
              " '39,M,HIGH,HIGH,9.664,drugA',\n",
              " '61,M,NORMAL,HIGH,9.443,drugX',\n",
              " '37,F,LOW,NORMAL,12.006,drugX',\n",
              " '26,F,HIGH,NORMAL,12.307,drugA',\n",
              " '61,F,LOW,NORMAL,7.34,drugX',\n",
              " '22,M,LOW,HIGH,8.151,drugC',\n",
              " '49,M,HIGH,NORMAL,8.7,drugA',\n",
              " '68,M,HIGH,HIGH,11.009,drugB',\n",
              " '55,M,NORMAL,NORMAL,7.261,drugX',\n",
              " '72,F,LOW,NORMAL,14.642,drugX',\n",
              " '37,M,LOW,NORMAL,16.724,DrugY',\n",
              " '49,M,LOW,HIGH,10.537,drugC',\n",
              " '31,M,HIGH,NORMAL,11.227,drugA',\n",
              " '53,M,LOW,HIGH,22.963,DrugY',\n",
              " '59,F,LOW,HIGH,10.444,drugC',\n",
              " '34,F,LOW,NORMAL,12.923,drugX',\n",
              " '30,F,NORMAL,HIGH,10.443,drugX',\n",
              " '57,F,HIGH,NORMAL,9.945,drugB',\n",
              " '43,M,NORMAL,NORMAL,12.859,drugX',\n",
              " '21,F,HIGH,NORMAL,28.632,DrugY',\n",
              " '16,M,HIGH,NORMAL,19.007,DrugY',\n",
              " '38,M,LOW,HIGH,18.295,DrugY',\n",
              " '58,F,LOW,HIGH,26.645,DrugY',\n",
              " '57,F,NORMAL,HIGH,14.216,drugX',\n",
              " '51,F,LOW,NORMAL,23.003,DrugY',\n",
              " '20,F,HIGH,HIGH,11.262,drugA',\n",
              " '28,F,NORMAL,HIGH,12.879,drugX',\n",
              " '45,M,LOW,NORMAL,10.017,drugX',\n",
              " '39,F,NORMAL,NORMAL,17.225,DrugY',\n",
              " '41,F,LOW,NORMAL,18.739,DrugY',\n",
              " '42,M,HIGH,NORMAL,12.766,drugA',\n",
              " '73,F,HIGH,HIGH,18.348,DrugY',\n",
              " '48,M,HIGH,NORMAL,10.446,drugA',\n",
              " '25,M,NORMAL,HIGH,19.011,DrugY',\n",
              " '39,M,NORMAL,HIGH,15.969,DrugY',\n",
              " '67,F,NORMAL,HIGH,15.891,DrugY',\n",
              " '22,F,HIGH,NORMAL,22.818,DrugY',\n",
              " '59,F,NORMAL,HIGH,13.884,drugX',\n",
              " '20,F,LOW,NORMAL,11.686,drugX',\n",
              " '36,F,HIGH,NORMAL,15.49,DrugY',\n",
              " '18,F,HIGH,HIGH,37.188,DrugY',\n",
              " '57,F,NORMAL,NORMAL,25.893,DrugY',\n",
              " '70,M,HIGH,HIGH,9.849,drugB',\n",
              " '47,M,HIGH,HIGH,10.403,drugA',\n",
              " '65,M,HIGH,NORMAL,34.997,DrugY',\n",
              " '64,M,HIGH,NORMAL,20.932,DrugY',\n",
              " '58,M,HIGH,HIGH,18.991,DrugY',\n",
              " '23,M,HIGH,HIGH,8.011,drugA',\n",
              " '72,M,LOW,HIGH,16.31,DrugY',\n",
              " '72,M,LOW,HIGH,6.769,drugC',\n",
              " '46,F,HIGH,HIGH,34.686,DrugY',\n",
              " '56,F,LOW,HIGH,11.567,drugC',\n",
              " '16,M,LOW,HIGH,12.006,drugC',\n",
              " '52,M,NORMAL,HIGH,9.894,drugX',\n",
              " '23,M,NORMAL,NORMAL,14.02,drugX',\n",
              " '40,F,LOW,NORMAL,11.349,drugX']"
            ]
          },
          "metadata": {},
          "execution_count": 29
        }
      ]
    },
    {
      "cell_type": "markdown",
      "source": [
        "## RDD Persistence"
      ],
      "metadata": {
        "id": "8_GQ-iuOY3bF"
      }
    },
    {
      "cell_type": "code",
      "source": [
        "abc = sc.parallelize(range(1,1000,2))\n",
        "abc.persist()"
      ],
      "metadata": {
        "colab": {
          "base_uri": "https://localhost:8080/"
        },
        "id": "9VfDtkb4XATE",
        "outputId": "3674ee98-159a-4c27-93c9-89a1a14ec988"
      },
      "execution_count": 32,
      "outputs": [
        {
          "output_type": "execute_result",
          "data": {
            "text/plain": [
              "PythonRDD[17] at RDD at PythonRDD.scala:53"
            ]
          },
          "metadata": {},
          "execution_count": 32
        }
      ]
    },
    {
      "cell_type": "markdown",
      "source": [
        "## RDD Caching"
      ],
      "metadata": {
        "id": "ELhSghWNcUbh"
      }
    },
    {
      "cell_type": "code",
      "source": [
        "texFile =sc.textFile(\"drug200.csv\")\n",
        "textFile.cache()"
      ],
      "metadata": {
        "colab": {
          "base_uri": "https://localhost:8080/"
        },
        "id": "8Or0SrFmY2_u",
        "outputId": "221f706f-8eac-4f76-96ca-78a215e1249c"
      },
      "execution_count": 36,
      "outputs": [
        {
          "output_type": "execute_result",
          "data": {
            "text/plain": [
              "drug200.csv MapPartitionsRDD[21] at textFile at NativeMethodAccessorImpl.java:0"
            ]
          },
          "metadata": {},
          "execution_count": 36
        }
      ]
    },
    {
      "cell_type": "markdown",
      "source": [
        "### Map"
      ],
      "metadata": {
        "id": "MD4uYLfcdB0I"
      }
    },
    {
      "cell_type": "code",
      "source": [
        "x = sc.parallelize([\"spark\",\"rdd\",\"exaple\",\"sample\",\"example\"])\n",
        "y = x.map(lambda x:(x,1))\n",
        "y.collect()"
      ],
      "metadata": {
        "colab": {
          "base_uri": "https://localhost:8080/"
        },
        "id": "25ilxyW0cJe-",
        "outputId": "c4e583b6-86c3-4f63-b704-5cf0a462928d"
      },
      "execution_count": 37,
      "outputs": [
        {
          "output_type": "execute_result",
          "data": {
            "text/plain": [
              "[('spark', 1), ('rdd', 1), ('exaple', 1), ('sample', 1), ('example', 1)]"
            ]
          },
          "metadata": {},
          "execution_count": 37
        }
      ]
    },
    {
      "cell_type": "markdown",
      "source": [
        "### FlatMap"
      ],
      "metadata": {
        "id": "BF0g6kfVdlRx"
      }
    },
    {
      "cell_type": "code",
      "source": [
        "rdd = sc.parallelize([2,3,4])\n",
        "sorted(rdd.flatMap(lambda x: range(1, x)).collect())"
      ],
      "metadata": {
        "colab": {
          "base_uri": "https://localhost:8080/"
        },
        "id": "oQXXjfJFdib-",
        "outputId": "9379bd97-6c07-496c-848b-a54996ed53cf"
      },
      "execution_count": 39,
      "outputs": [
        {
          "output_type": "execute_result",
          "data": {
            "text/plain": [
              "[1, 1, 1, 2, 2, 3]"
            ]
          },
          "metadata": {},
          "execution_count": 39
        }
      ]
    },
    {
      "cell_type": "markdown",
      "source": [
        "### Filter"
      ],
      "metadata": {
        "id": "rEEHrBese1tQ"
      }
    },
    {
      "cell_type": "code",
      "source": [
        "rdd = sc.parallelize([1,2,3,4,5])\n",
        "rdd.filter(lambda x: x % 2 == 0).collect()"
      ],
      "metadata": {
        "colab": {
          "base_uri": "https://localhost:8080/"
        },
        "id": "N-TLTIr3dsKU",
        "outputId": "15ed6c15-3084-4409-cf30-8bccd4ea3202"
      },
      "execution_count": 41,
      "outputs": [
        {
          "output_type": "execute_result",
          "data": {
            "text/plain": [
              "[2, 4]"
            ]
          },
          "metadata": {},
          "execution_count": 41
        }
      ]
    },
    {
      "cell_type": "markdown",
      "source": [
        "### Union"
      ],
      "metadata": {
        "id": "8BgBjHpohs32"
      }
    },
    {
      "cell_type": "code",
      "source": [
        "parallel = sc.parallelize(range(1,9))\n",
        "par = sc.parallelize(range(5,15))\n",
        "parallel.union(par).collect()"
      ],
      "metadata": {
        "colab": {
          "base_uri": "https://localhost:8080/"
        },
        "id": "i6mm7TEze4f0",
        "outputId": "81f9eb5c-d50d-4059-e8db-739b5c0156c8"
      },
      "execution_count": 46,
      "outputs": [
        {
          "output_type": "execute_result",
          "data": {
            "text/plain": [
              "[1, 2, 3, 4, 5, 6, 7, 8, 5, 6, 7, 8, 9, 10, 11, 12, 13, 14]"
            ]
          },
          "metadata": {},
          "execution_count": 46
        }
      ]
    },
    {
      "cell_type": "markdown",
      "source": [
        "### Intersection"
      ],
      "metadata": {
        "id": "UvRz-Yfvins_"
      }
    },
    {
      "cell_type": "code",
      "source": [
        "parallel = sc.parallelize(range(1,9))\n",
        "par = sc.parallelize(range(5,15))\n",
        "parallel.intersection(par).collect()"
      ],
      "metadata": {
        "colab": {
          "base_uri": "https://localhost:8080/"
        },
        "id": "dYFLug3FhvAN",
        "outputId": "ab7bf33e-bbd9-41f9-bcba-4e7447be9c97"
      },
      "execution_count": 47,
      "outputs": [
        {
          "output_type": "execute_result",
          "data": {
            "text/plain": [
              "[6, 8, 5, 7]"
            ]
          },
          "metadata": {},
          "execution_count": 47
        }
      ]
    },
    {
      "cell_type": "markdown",
      "source": [
        "### Distinct"
      ],
      "metadata": {
        "id": "TGQUQUzHjO3c"
      }
    },
    {
      "cell_type": "code",
      "source": [
        "parallel =sc.parallelize(range(1,9))\n",
        "par = sc.parallelize(range(5,15))\n",
        "parallel.union(par).distinct().collect()"
      ],
      "metadata": {
        "colab": {
          "base_uri": "https://localhost:8080/"
        },
        "id": "CHjSlc_NirtF",
        "outputId": "e3eb4716-c1c2-431b-cfe6-68a2f05ec7ad"
      },
      "execution_count": 48,
      "outputs": [
        {
          "output_type": "execute_result",
          "data": {
            "text/plain": [
              "[2, 4, 6, 8, 10, 12, 14, 1, 3, 5, 7, 9, 11, 13]"
            ]
          },
          "metadata": {},
          "execution_count": 48
        }
      ]
    },
    {
      "cell_type": "markdown",
      "source": [
        "### SortBy"
      ],
      "metadata": {
        "id": "VsVHC3mekDYI"
      }
    },
    {
      "cell_type": "code",
      "source": [
        "y =sc.parallelize([5,7,1,3,1])\n",
        "y.sortBy(lambda c: c, True).collect()"
      ],
      "metadata": {
        "colab": {
          "base_uri": "https://localhost:8080/"
        },
        "id": "JGZqOEUMj4cY",
        "outputId": "faab3ac4-28f8-40b6-ca8d-f4683e488b43"
      },
      "execution_count": 49,
      "outputs": [
        {
          "output_type": "execute_result",
          "data": {
            "text/plain": [
              "[1, 1, 3, 5, 7]"
            ]
          },
          "metadata": {},
          "execution_count": 49
        }
      ]
    },
    {
      "cell_type": "markdown",
      "source": [
        "### SortBy"
      ],
      "metadata": {
        "id": "A03lGD_bk8Sk"
      }
    },
    {
      "cell_type": "code",
      "source": [
        "z =sc.parallelize([5,7,1,3,1])\n",
        "z.sortBy(lambda c: c, False).collect()"
      ],
      "metadata": {
        "colab": {
          "base_uri": "https://localhost:8080/"
        },
        "id": "YJcbuWWek667",
        "outputId": "921ad53f-d0ae-4368-bb79-d14bb974fde6"
      },
      "execution_count": 51,
      "outputs": [
        {
          "output_type": "execute_result",
          "data": {
            "text/plain": [
              "[7, 5, 3, 1, 1]"
            ]
          },
          "metadata": {},
          "execution_count": 51
        }
      ]
    },
    {
      "cell_type": "code",
      "source": [
        ""
      ],
      "metadata": {
        "id": "fR56FJqPlToL"
      },
      "execution_count": null,
      "outputs": []
    }
  ]
}